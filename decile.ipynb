{
 "cells": [
  {
   "cell_type": "markdown",
   "metadata": {},
   "source": [
    "# Scatterplots color coded by decile"
   ]
  },
  {
   "cell_type": "code",
   "execution_count": 1,
   "metadata": {},
   "outputs": [
    {
     "data": {
      "text/html": [
       "<div>\n",
       "<style scoped>\n",
       "    .dataframe tbody tr th:only-of-type {\n",
       "        vertical-align: middle;\n",
       "    }\n",
       "\n",
       "    .dataframe tbody tr th {\n",
       "        vertical-align: top;\n",
       "    }\n",
       "\n",
       "    .dataframe thead th {\n",
       "        text-align: right;\n",
       "    }\n",
       "</style>\n",
       "<table border=\"1\" class=\"dataframe\">\n",
       "  <thead>\n",
       "    <tr style=\"text-align: right;\">\n",
       "      <th></th>\n",
       "      <th>csa_name_mod2</th>\n",
       "      <th>company_id</th>\n",
       "      <th>company_name</th>\n",
       "      <th>worked_shifts_0_30</th>\n",
       "      <th>worked_shifts_31_365</th>\n",
       "      <th>fill_rate_f30d</th>\n",
       "      <th>decile_2023</th>\n",
       "    </tr>\n",
       "  </thead>\n",
       "  <tbody>\n",
       "    <tr>\n",
       "      <th>0</th>\n",
       "      <td>Salt Lake City-Provo-Orem, UT</td>\n",
       "      <td>3</td>\n",
       "      <td>Warehouse Inc.</td>\n",
       "      <td>1</td>\n",
       "      <td>NaN</td>\n",
       "      <td>1.0000</td>\n",
       "      <td>NaN</td>\n",
       "    </tr>\n",
       "    <tr>\n",
       "      <th>1</th>\n",
       "      <td>Salt Lake City-Provo-Orem, UT</td>\n",
       "      <td>4</td>\n",
       "      <td>Bacon Inc</td>\n",
       "      <td>4</td>\n",
       "      <td>8.0</td>\n",
       "      <td>0.2000</td>\n",
       "      <td>NaN</td>\n",
       "    </tr>\n",
       "    <tr>\n",
       "      <th>2</th>\n",
       "      <td>Salt Lake City-Provo-Orem, UT</td>\n",
       "      <td>9</td>\n",
       "      <td>Bacon Inc</td>\n",
       "      <td>2</td>\n",
       "      <td>NaN</td>\n",
       "      <td>0.5000</td>\n",
       "      <td>1.0</td>\n",
       "    </tr>\n",
       "    <tr>\n",
       "      <th>3</th>\n",
       "      <td>Salt Lake City-Provo-Orem, UT</td>\n",
       "      <td>11</td>\n",
       "      <td>Utah Valley Convention Center</td>\n",
       "      <td>24</td>\n",
       "      <td>302.0</td>\n",
       "      <td>0.2308</td>\n",
       "      <td>4.0</td>\n",
       "    </tr>\n",
       "    <tr>\n",
       "      <th>4</th>\n",
       "      <td>Salt Lake City-Provo-Orem, UT</td>\n",
       "      <td>12</td>\n",
       "      <td>Beehive Catering</td>\n",
       "      <td>3</td>\n",
       "      <td>NaN</td>\n",
       "      <td>0.5000</td>\n",
       "      <td>NaN</td>\n",
       "    </tr>\n",
       "  </tbody>\n",
       "</table>\n",
       "</div>"
      ],
      "text/plain": [
       "                   csa_name_mod2  company_id                   company_name  \\\n",
       "0  Salt Lake City-Provo-Orem, UT           3                 Warehouse Inc.   \n",
       "1  Salt Lake City-Provo-Orem, UT           4                      Bacon Inc   \n",
       "2  Salt Lake City-Provo-Orem, UT           9                      Bacon Inc   \n",
       "3  Salt Lake City-Provo-Orem, UT          11  Utah Valley Convention Center   \n",
       "4  Salt Lake City-Provo-Orem, UT          12               Beehive Catering   \n",
       "\n",
       "   worked_shifts_0_30  worked_shifts_31_365  fill_rate_f30d  decile_2023  \n",
       "0                   1                   NaN          1.0000          NaN  \n",
       "1                   4                   8.0          0.2000          NaN  \n",
       "2                   2                   NaN          0.5000          1.0  \n",
       "3                  24                 302.0          0.2308          4.0  \n",
       "4                   3                   NaN          0.5000          NaN  "
      ]
     },
     "execution_count": 1,
     "metadata": {},
     "output_type": "execute_result"
    }
   ],
   "source": [
    "import pandas as pd\n",
    "import seaborn as sns\n",
    "import matplotlib.pyplot as plt\n",
    "df = pd.read_csv(\"childlode.csv\")\n",
    "df.head()"
   ]
  },
  {
   "cell_type": "code",
   "execution_count": null,
   "metadata": {},
   "outputs": [],
   "source": [
    "# Make the two scatterplots, both with total worked (31-365) as x, one with fill rate f30 as y, and one with total worked f30 as y. color code dots by associated decile."
   ]
  }
 ],
 "metadata": {
  "kernelspec": {
   "display_name": "Python 3",
   "language": "python",
   "name": "python3"
  },
  "language_info": {
   "codemirror_mode": {
    "name": "ipython",
    "version": 3
   },
   "file_extension": ".py",
   "mimetype": "text/x-python",
   "name": "python",
   "nbconvert_exporter": "python",
   "pygments_lexer": "ipython3",
   "version": "3.11.6"
  }
 },
 "nbformat": 4,
 "nbformat_minor": 2
}
