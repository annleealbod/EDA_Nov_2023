{
 "cells": [
  {
   "cell_type": "code",
   "execution_count": null,
   "metadata": {},
   "outputs": [],
   "source": [
    "## Scrambling the motherlode\n",
    "import pandas as pd\n",
    "import random\n",
    "\n",
    "# Read in CSV\n",
    "df = pd.read_csv(\"the motherlode.csv\")\n",
    "\n",
    "# Function to scramble letters in a word\n",
    "def scramble_letters(word):\n",
    "    if len(word) > 1:\n",
    "        word_list = list(word)\n",
    "        random.shuffle(word_list)\n",
    "        return ''.join(word_list)\n",
    "    else:\n",
    "        return word\n",
    "\n",
    "# Create a new DataFrame with scrambled names\n",
    "scrambled_df = pd.DataFrame()\n",
    "scrambled_df['scrambled_company_name'] = df['company_name'].apply(scramble_letters)\n",
    "\n",
    "# Save the scrambled DataFrame to a new CSV file\n",
    "scrambled_df.to_csv('scrambled_motherlode.csv', index=False)"
   ]
  },
  {
   "cell_type": "code",
   "execution_count": null,
   "metadata": {},
   "outputs": [],
   "source": [
    "## Scrambling the fatherlode\n",
    "\n",
    "# Read in CSV\n",
    "df2 = pd.read_csv(\"the fatherlode.csv\")\n",
    "\n",
    "# Function to scramble letters in a word\n",
    "def scramble_letters(word):\n",
    "    if len(word) > 1:\n",
    "        word_list = list(word)\n",
    "        random.shuffle(word_list)\n",
    "        return ''.join(word_list)\n",
    "    else:\n",
    "        return word\n",
    "\n",
    "# Create a new DataFrame with scrambled names\n",
    "scrambled_df = pd.DataFrame()\n",
    "scrambled_df['scrambled_company_name'] = df2['company_name'].apply(scramble_letters)\n",
    "\n",
    "# Save the scrambled DataFrame to a new CSV file\n",
    "scrambled_df.to_csv('scrambled_fatherlode.csv', index=False)"
   ]
  }
 ],
 "metadata": {
  "language_info": {
   "name": "python"
  }
 },
 "nbformat": 4,
 "nbformat_minor": 2
}
