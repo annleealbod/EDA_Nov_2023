{
 "cells": [
  {
   "cell_type": "code",
   "execution_count": 3,
   "metadata": {},
   "outputs": [],
   "source": [
    "## Scrambling the motherlode\n",
    "import pandas as pd\n",
    "import random\n",
    "\n",
    "# Sample DataFrame with a 'company_name' column\n",
    "df = pd.read_csv(\"the motherlode.csv\")\n",
    "\n",
    "# Function to scramble letters in a word\n",
    "def scramble_letters(word):\n",
    "    if isinstance(word, str) and len(word) > 1:\n",
    "        word_list = list(word)\n",
    "        random.shuffle(word_list)\n",
    "        return ''.join(word_list)\n",
    "    else:\n",
    "        return word\n",
    "\n",
    "# Create a new DataFrame with the structure of the original DataFrame\n",
    "scrambled_df = df.copy()\n",
    "\n",
    "# Apply the scrambling function to the 'company_name' column\n",
    "scrambled_df['company_name'] = df['company_name'].apply(scramble_letters)\n",
    "\n",
    "# Save the scrambled DataFrame to a new CSV file\n",
    "scrambled_df.to_csv('scrambled_motherlode.csv', index=False)"
   ]
  },
  {
   "cell_type": "code",
   "execution_count": null,
   "metadata": {},
   "outputs": [],
   "source": [
    "## Scrambling the fatherlode\n",
    "\n",
    "# Read in CSV\n",
    "df2 = pd.read_csv(\"the fatherlode.csv\")\n",
    "\n",
    "# Function to scramble letters in a word\n",
    "def scramble_letters(word):\n",
    "    if len(word) > 1:\n",
    "        word_list = list(word)\n",
    "        random.shuffle(word_list)\n",
    "        return ''.join(word_list)\n",
    "    else:\n",
    "        return word\n",
    "\n",
    "# Create a new DataFrame with scrambled names\n",
    "scrambled_df = pd.DataFrame()\n",
    "scrambled_df['scrambled_company_name'] = df2['company_name'].apply(scramble_letters)\n",
    "\n",
    "# Save the scrambled DataFrame to a new CSV file\n",
    "scrambled_df.to_csv('scrambled_fatherlode.csv', index=False)"
   ]
  }
 ],
 "metadata": {
  "kernelspec": {
   "display_name": "Python 3",
   "language": "python",
   "name": "python3"
  },
  "language_info": {
   "codemirror_mode": {
    "name": "ipython",
    "version": 3
   },
   "file_extension": ".py",
   "mimetype": "text/x-python",
   "name": "python",
   "nbconvert_exporter": "python",
   "pygments_lexer": "ipython3",
   "version": "3.11.6"
  }
 },
 "nbformat": 4,
 "nbformat_minor": 2
}
